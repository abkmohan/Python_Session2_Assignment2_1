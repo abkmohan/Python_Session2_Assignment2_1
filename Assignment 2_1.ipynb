{
 "cells": [
  {
   "cell_type": "code",
   "execution_count": 3,
   "metadata": {},
   "outputs": [
    {
     "name": "stdout",
     "output_type": "stream",
     "text": [
      "Enter comma-seperated numbers:10,20,30,40,50,60,70,100,200\n",
      "['10', '20', '30', '40', '50', '60', '70', '100', '200']\n"
     ]
    }
   ],
   "source": [
    "#Course: Data Science Masters\n",
    "#Title: Python - Assignment 1.2\n",
    "#Problem Statement: Program which accepts a sequence of comma-separated numbers from console\n",
    "#                   and generate a list.\n",
    "#Tool: Jupyter notebook \n",
    "#Author: Krishna A\n",
    "#Date: 7-2-2018 (DD/MM/YYYY)\n",
    "\n",
    "sUserInput = input(\"Enter comma-seperated numbers:\")\n",
    "sList = sUserInput.split(\",\") #The split() method returns a list of all the words in the string\n",
    "print(sList)"
   ]
  },
  {
   "cell_type": "code",
   "execution_count": null,
   "metadata": {
    "collapsed": true
   },
   "outputs": [],
   "source": []
  }
 ],
 "metadata": {
  "kernelspec": {
   "display_name": "Python 3",
   "language": "python",
   "name": "python3"
  },
  "language_info": {
   "codemirror_mode": {
    "name": "ipython",
    "version": 3
   },
   "file_extension": ".py",
   "mimetype": "text/x-python",
   "name": "python",
   "nbconvert_exporter": "python",
   "pygments_lexer": "ipython3",
   "version": "3.6.3"
  }
 },
 "nbformat": 4,
 "nbformat_minor": 2
}
